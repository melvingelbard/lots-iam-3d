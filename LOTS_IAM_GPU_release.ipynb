{
 "cells": [
  {
   "cell_type": "markdown",
   "metadata": {},
   "source": [
    "# Importing libraries\n",
    "\n",
    "Notes for user:\n",
    "1. No change is needed in this cell.\n",
    "2. Wait for `Initialisation is done..` is printed before continuing.\n",
    "3. To run this cell section, click `>| Run` button.\n",
    "4. If you want to clear the output to run pristine code, choose `Kernel > Restart & Clear Output`.\n",
    "5. If you want to run all the active cells, choose `Kernel > Restart & Run All`."
   ]
  },
  {
   "cell_type": "code",
   "execution_count": 1,
   "metadata": {},
   "outputs": [
    {
     "ename": "ModuleNotFoundError",
     "evalue": "No module named 'cv2'",
     "output_type": "error",
     "traceback": [
      "\u001b[1;31m---------------------------------------------------------------------------\u001b[0m",
      "\u001b[1;31mModuleNotFoundError\u001b[0m                       Traceback (most recent call last)",
      "\u001b[1;32m<ipython-input-1-d3c8ee8a2310>\u001b[0m in \u001b[0;36m<module>\u001b[1;34m()\u001b[0m\n\u001b[1;32m----> 1\u001b[1;33m \u001b[1;32mfrom\u001b[0m \u001b[0mIAM_GPU_lib\u001b[0m \u001b[1;32mimport\u001b[0m \u001b[1;33m*\u001b[0m\u001b[1;33m\u001b[0m\u001b[0m\n\u001b[0m\u001b[0;32m      2\u001b[0m \u001b[1;33m\u001b[0m\u001b[0m\n\u001b[0;32m      3\u001b[0m \u001b[0mprint\u001b[0m\u001b[1;33m(\u001b[0m\u001b[1;34m'Check OpenCV version: '\u001b[0m \u001b[1;33m+\u001b[0m \u001b[0mcv2\u001b[0m\u001b[1;33m.\u001b[0m\u001b[0m__version__\u001b[0m \u001b[1;33m+\u001b[0m \u001b[1;34m'\\n'\u001b[0m\u001b[1;33m)\u001b[0m\u001b[1;33m\u001b[0m\u001b[0m\n\u001b[0;32m      4\u001b[0m \u001b[0mprint\u001b[0m\u001b[1;33m(\u001b[0m\u001b[0mcuda\u001b[0m\u001b[1;33m.\u001b[0m\u001b[0mcurrent_context\u001b[0m\u001b[1;33m(\u001b[0m\u001b[1;33m)\u001b[0m\u001b[1;33m.\u001b[0m\u001b[0mget_memory_info\u001b[0m\u001b[1;33m(\u001b[0m\u001b[1;33m)\u001b[0m\u001b[1;33m)\u001b[0m\u001b[1;33m\u001b[0m\u001b[0m\n\u001b[0;32m      5\u001b[0m \u001b[0mprint\u001b[0m\u001b[1;33m(\u001b[0m\u001b[1;34m'Initialisation is done..\\n'\u001b[0m\u001b[1;33m)\u001b[0m\u001b[1;33m\u001b[0m\u001b[0m\n",
      "\u001b[1;32mD:\\Edinburgh\\dissertation\\LOTS-IAM-GPU\\lots-iam-gpu-master\\IAM_GPU_lib.py\u001b[0m in \u001b[0;36m<module>\u001b[1;34m()\u001b[0m\n\u001b[0;32m      7\u001b[0m \u001b[1;32mfrom\u001b[0m \u001b[0mmpl_toolkits\u001b[0m\u001b[1;33m.\u001b[0m\u001b[0maxes_grid1\u001b[0m \u001b[1;32mimport\u001b[0m \u001b[0mmake_axes_locatable\u001b[0m\u001b[1;33m\u001b[0m\u001b[0m\n\u001b[0;32m      8\u001b[0m \u001b[1;33m\u001b[0m\u001b[0m\n\u001b[1;32m----> 9\u001b[1;33m \u001b[1;32mfrom\u001b[0m \u001b[0mIAM_lib\u001b[0m \u001b[1;32mimport\u001b[0m \u001b[1;33m*\u001b[0m\u001b[1;33m\u001b[0m\u001b[0m\n\u001b[0m\u001b[0;32m     10\u001b[0m \u001b[1;33m\u001b[0m\u001b[0m\n\u001b[0;32m     11\u001b[0m \u001b[1;32mimport\u001b[0m \u001b[0mnumpy\u001b[0m \u001b[1;32mas\u001b[0m \u001b[0mnp\u001b[0m\u001b[1;33m\u001b[0m\u001b[0m\n",
      "\u001b[1;32mD:\\Edinburgh\\dissertation\\LOTS-IAM-GPU\\lots-iam-gpu-master\\IAM_lib.py\u001b[0m in \u001b[0;36m<module>\u001b[1;34m()\u001b[0m\n\u001b[0;32m      1\u001b[0m \u001b[1;32mfrom\u001b[0m \u001b[0mnumba\u001b[0m \u001b[1;32mimport\u001b[0m \u001b[0mcuda\u001b[0m\u001b[1;33m\u001b[0m\u001b[0m\n\u001b[0;32m      2\u001b[0m \u001b[1;32mimport\u001b[0m \u001b[0mnumpy\u001b[0m \u001b[1;32mas\u001b[0m \u001b[0mnp\u001b[0m\u001b[1;33m\u001b[0m\u001b[0m\n\u001b[1;32m----> 3\u001b[1;33m \u001b[1;32mimport\u001b[0m \u001b[0mmath\u001b[0m\u001b[1;33m,\u001b[0m \u001b[0mnumba\u001b[0m\u001b[1;33m,\u001b[0m \u001b[0mcv2\u001b[0m\u001b[1;33m\u001b[0m\u001b[0m\n\u001b[0m\u001b[0;32m      4\u001b[0m \u001b[1;33m\u001b[0m\u001b[0m\n\u001b[0;32m      5\u001b[0m \u001b[1;33m@\u001b[0m\u001b[0mcuda\u001b[0m\u001b[1;33m.\u001b[0m\u001b[0mjit\u001b[0m\u001b[1;33m\u001b[0m\u001b[0m\n",
      "\u001b[1;31mModuleNotFoundError\u001b[0m: No module named 'cv2'"
     ]
    }
   ],
   "source": [
    "from IAM_GPU_lib import *\n",
    "\n",
    "print('Check OpenCV version: ' + cv2.__version__ + '\\n')\n",
    "print(cuda.current_context().get_memory_info())\n",
    "print('Initialisation is done..\\n')"
   ]
  },
  {
   "cell_type": "markdown",
   "metadata": {},
   "source": [
    "# List of MRI data that will be processed using IAM\n",
    "\n",
    "* Below is a list of variables that needs to be changed manually.\n",
    "* If you need more explanation of these parameters, please see [this documentation in GitHub](https://github.com/febrianrachmadi/lots-iam-gpu#23-changing-softwares-parameters).\n",
    "* Note: To run this cell section, click `>| Run` button."
   ]
  },
  {
   "cell_type": "code",
   "execution_count": null,
   "metadata": {
    "scrolled": false
   },
   "outputs": [],
   "source": [
    "## General output full path (note to user: you can change this variable)\n",
    "output_filedir = \"/mnt/XHDD/ADNI_7x3_VisualRating_IAM/results-lots-iam-gpu/IAM_GPU_pipeline_FLAIR_Fazekas\"\n",
    "\n",
    "## Name of csv file (note to user: you can change this variable)\n",
    "csv_filename = \"IAM_GPU_pipeline_test_v2.csv\"\n",
    "\n",
    "## Size of source and target patches.\n",
    "## Must be in the form of python's list data structure.\n",
    "## Default: patch_size = [1,2,4,8]\n",
    "patch_size = [1,2,4,8]\n",
    "\n",
    "## Weights for age map blending produced by different size of source/target patches\n",
    "## Must be in the form of python's list data structure.\n",
    "## Its length must be the same as 'patch_size' variable.\n",
    "## Default: blending_weights = [0.65,0.2,0.1,0.05]\n",
    "blending_weights = [0.65,0.2,0.1,0.05]\n",
    "\n",
    "## Used only for automatic calculation for all number of samples\n",
    "## NOTE: Smaller number of samples makes computation faster (please refer to the manuscript).\n",
    "## Samples used for IAM calculation \n",
    "## Default: num_samples_all = [512]\n",
    "num_samples_all = [64]\n",
    "## Uncomment line below and comment line above if you want to run all different number of samples \n",
    "# num_samples_all = [64, 128, 256, 512, 1024, 2048]\n",
    "\n",
    "## Weight of distance function to blend maximum difference and average difference between source\n",
    "## and target patches. Default: alpha=0.5. Input value should be between 0 and 1 (i.e. floating).\n",
    "alpha = 0.5\n",
    "\n",
    "## Use NAWM mask (if available) at pre-processing rather than at post-processing\n",
    "## True: Use NAWM at pre-processing\n",
    "## False (default): Use NAWM at post-processing\n",
    "nawm_preprocessing = False\n",
    "\n",
    "## Threshold value for cutting of probability values of brain masks, if probability masks\n",
    "## are given instead of binary masks.\n",
    "bin_tresh=0.5\n",
    "\n",
    "## Save JPEG outputs\n",
    "## Default: save_jpeg = True\n",
    "save_jpeg = True\n",
    "\n",
    "## Delete all intermediary files/folders, saving some spaces in the hard disk drive.\n",
    "## Default: delete_intermediary = False\n",
    "delete_intermediary = False\n",
    "\n",
    "print(\"--- PARAMETERS - CHECKED ---\")\n",
    "print('Output file dir: ' + output_filedir)\n",
    "print('CSV data filename: ' + csv_filename)\n",
    "print('Patch size(s): ' + str(patch_size))\n",
    "print('Number of samples (all): ' + str(num_samples_all))\n",
    "print('NAWM Pre-processing? ' + str(nawm_preprocessing))\n",
    "print('Save JPEGs? ' + str(save_jpeg))\n",
    "print(\"--- PARAMETERS - CHECKED ---\")\n",
    "\n",
    "print('--\\nReady..')"
   ]
  },
  {
   "cell_type": "markdown",
   "metadata": {},
   "source": [
    "# Run LOTS-IAM-GPU\n",
    "\n",
    "* To run this cell section, click `>| Run` button.\n",
    "* If you need help, please see run: `help(iam_lots_gpu_compute)`"
   ]
  },
  {
   "cell_type": "code",
   "execution_count": null,
   "metadata": {},
   "outputs": [],
   "source": [
    "iam_lots_gpu_compute(output_filedir   = output_filedir,\n",
    "                     csv_filename     = csv_filename,\n",
    "                     patch_size       = patch_size,\n",
    "                     blending_weights = blending_weights,\n",
    "                     num_sample       = num_samples_all,\n",
    "                     alpha            = alpha,\n",
    "                     bin_tresh        = bin_tresh,\n",
    "                     save_jpeg        = save_jpeg,\n",
    "                     delete_intermediary = delete_intermediary,\n",
    "                     nawm_preprocessing  = nawm_preprocessing)"
   ]
  },
  {
   "cell_type": "code",
   "execution_count": 2,
   "metadata": {},
   "outputs": [
    {
     "ename": "NameError",
     "evalue": "name 'iam_lots_gpu_compute' is not defined",
     "output_type": "error",
     "traceback": [
      "\u001b[1;31m---------------------------------------------------------------------------\u001b[0m",
      "\u001b[1;31mNameError\u001b[0m                                 Traceback (most recent call last)",
      "\u001b[1;32m<ipython-input-2-84af7ccef311>\u001b[0m in \u001b[0;36m<module>\u001b[1;34m()\u001b[0m\n\u001b[1;32m----> 1\u001b[1;33m \u001b[0mhelp\u001b[0m\u001b[1;33m(\u001b[0m\u001b[0miam_lots_gpu_compute\u001b[0m\u001b[1;33m)\u001b[0m\u001b[1;33m\u001b[0m\u001b[0m\n\u001b[0m",
      "\u001b[1;31mNameError\u001b[0m: name 'iam_lots_gpu_compute' is not defined"
     ]
    }
   ],
   "source": [
    "help(iam_lots_gpu_compute)"
   ]
  },
  {
   "cell_type": "code",
   "execution_count": null,
   "metadata": {},
   "outputs": [],
   "source": []
  }
 ],
 "metadata": {
  "kernelspec": {
   "display_name": "Python 3",
   "language": "python",
   "name": "python3"
  },
  "language_info": {
   "codemirror_mode": {
    "name": "ipython",
    "version": 3
   },
   "file_extension": ".py",
   "mimetype": "text/x-python",
   "name": "python",
   "nbconvert_exporter": "python",
   "pygments_lexer": "ipython3",
   "version": "3.7.0"
  }
 },
 "nbformat": 4,
 "nbformat_minor": 2
}
